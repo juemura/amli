{
 "cells": [
  {
   "cell_type": "code",
   "execution_count": null,
   "metadata": {},
   "outputs": [],
   "source": [
    "import random"
   ]
  },
  {
   "cell_type": "code",
   "execution_count": null,
   "metadata": {},
   "outputs": [],
   "source": [
    "# Add two numbers\n",
    "\n",
    "loop = 0\n",
    "\n",
    "def add(x, y):\n",
    "    print(f\"Loop #{loop+1}\")\n",
    "    return x + y\n",
    "\n",
    "\n",
    "print(add(3, 5))\n",
    "\n",
    "# Time complexity:\n",
    "# Space complexity: \n"
   ]
  },
  {
   "cell_type": "code",
   "execution_count": null,
   "metadata": {},
   "outputs": [],
   "source": [
    "# Search in a list\n",
    "\n",
    "def find(arr, target):\n",
    "    for item in arr:\n",
    "        if item == target:\n",
    "            return True\n",
    "    return False\n",
    "\n",
    "list_ = random.sample(range(100), 10)\n",
    "print(f\"Unordered list: {list_}\")\n",
    "\n",
    "# Time complexity:\n",
    "\n",
    "# Space complexity: \n"
   ]
  },
  {
   "cell_type": "code",
   "execution_count": null,
   "metadata": {},
   "outputs": [],
   "source": [
    "# Search in a nxn matrix\n",
    "\n",
    "def find(matrix, target):\n",
    "    if len(matrix) > 0:\n",
    "        for i in len(matrix):\n",
    "            for j in len(matrix[0]):\n",
    "                if matrix[i][j] == target:\n",
    "                    Return True\n",
    "    return False\n",
    "\n",
    "# Time complexity:\n",
    "\n",
    "# Space complexity: "
   ]
  },
  {
   "cell_type": "code",
   "execution_count": null,
   "metadata": {},
   "outputs": [],
   "source": [
    "# Remove a given character from string (for example, remove all commas)\n",
    "\n",
    "def replace(str, char):\n",
    "    temp = []\n",
    "    for c in str:\n",
    "        if c != char:\n",
    "            temp.append(c)\n",
    "    return ''.join(temp)\n",
    "\n",
    "# Time complexity:\n",
    "\n",
    "# Space complexity: "
   ]
  },
  {
   "cell_type": "code",
   "execution_count": null,
   "metadata": {},
   "outputs": [],
   "source": [
    "# Apply lambda function to dataframe\n",
    "\n",
    "df['new_column'] = df['old_column'].apply(lambda x: x * 1000)\n",
    "\n",
    "# Time complexity:\n",
    "\n",
    "# Space complexity: \n"
   ]
  },
  {
   "cell_type": "code",
   "execution_count": null,
   "metadata": {},
   "outputs": [],
   "source": [
    "# Bubble Sort\n",
    "\n",
    "def bubble_sort(arr):\n",
    "    sorted = False\n",
    "    while(not sorted):\n",
    "        sorted = True\n",
    "        for i, value in enumerate(arr[:-1]):\n",
    "            if value > arr[i+1]:\n",
    "                arr[i], arr[i+1] = arr[i+1], arr[i]\n",
    "                sorted = False\n",
    "    return arr\n",
    "\n",
    "# Time complexity:\n",
    "\n",
    "# Space complexity: \n"
   ]
  },
  {
   "cell_type": "code",
   "execution_count": null,
   "metadata": {},
   "outputs": [],
   "source": [
    "# Challenges\n",
    "\n",
    "# Find all contiguous substrings\n",
    "\n",
    "def find_cont_substrings(arr):\n",
    "    substrings = set()\n",
    "    for i in range(len(arr)):\n",
    "        for j in range(i,len(arr)):\n",
    "            substrings.add(arr[i:j+1])\n",
    "    return substrings\n",
    "\n"
   ]
  },
  {
   "cell_type": "code",
   "execution_count": null,
   "metadata": {},
   "outputs": [],
   "source": [
    "# Or, using list comprehension:\n",
    "\n",
    "def find_substrings(arr):\n",
    "    length = len(arr)\n",
    "    return [arr[i:j+1] for i in range(length) for j in range(i,length)]\n",
    "\n",
    "# Time complexity:\n",
    "\n",
    "# Space complexity: \n"
   ]
  },
  {
   "cell_type": "code",
   "execution_count": null,
   "metadata": {},
   "outputs": [],
   "source": [
    "# Find or Implement a faster sorting method\n",
    "\n",
    "\"\"\"Your code goes here\"\"\"\n",
    "\n",
    "\n",
    "\n",
    "# Time complexity:\n",
    "\n",
    "# Space complexity: \n"
   ]
  }
 ],
 "metadata": {
  "kernelspec": {
   "display_name": "Python 3",
   "language": "python",
   "name": "python3"
  },
  "language_info": {
   "codemirror_mode": {
    "name": "ipython",
    "version": 3
   },
   "file_extension": ".py",
   "mimetype": "text/x-python",
   "name": "python",
   "nbconvert_exporter": "python",
   "pygments_lexer": "ipython3",
   "version": "3.6.6"
  }
 },
 "nbformat": 4,
 "nbformat_minor": 2
}
