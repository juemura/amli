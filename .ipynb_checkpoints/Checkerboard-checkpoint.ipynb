{
 "cells": [
  {
   "cell_type": "markdown",
   "metadata": {},
   "source": [
    "Suppose that you are given an n x n checkerboard and a checker.\n",
    "You must move the checker from the bottom edge of the board to the top edge of the board\n",
    "according to the following rule. At each step you may move the checker to one of three\n",
    "squares:\n",
    "1. the square immediately above,\n",
    "2. the square that is one up and one to the left (but only if the checker is not already in the\n",
    "left-most column),\n",
    "3. the square that is one up and one to the right (but only if the checker is not already in\n",
    "the right-most column).\n",
    "Each time you move from square x to square y, you receive p(x,y) dollars. You are given\n",
    "p(x,y) for all pairs (x,y) for which a move from x to y is legal. Do not assume that p(x,y) is\n",
    "positive.\n",
    "Give an algorithm that figures out the set of moves that will move the checker from\n",
    "somewhere along the bottom edge to somewhere along the top edge while gathering as\n",
    "many dollars as possible. Your algorithm is free to pick any square along the bottom edge as\n",
    "a starting point and any square along the top edge as a destination in order to maximize the\n",
    "number of dollars gathered along the way. What is the running time of your algorithm?\n"
   ]
  },
  {
   "cell_type": "code",
   "execution_count": 1,
   "metadata": {},
   "outputs": [
    {
     "name": "stdout",
     "output_type": "stream",
     "text": [
      "\n",
      "|     |   0 |   1 |   2 |   3 |   4 |   5 |   6 |   7 \n",
      "--------------------------------------------------------\n",
      "|   0 | -43 |  71 |  -5 |  54 | -93 | -66 | -83 | -74 \n",
      "--------------------------------------------------------\n",
      "|   1 |  56 | -60 |  40 |  69 | -13 | -88 |  69 |   5 \n",
      "--------------------------------------------------------\n",
      "|   2 |  -5 | -39 | -36 |  23 | -93 |  15 | -84 |  54 \n",
      "--------------------------------------------------------\n",
      "|   3 |   3 |  35 |  49 |   3 | -79 | -25 |  86 |  49 \n",
      "--------------------------------------------------------\n",
      "|   4 |  21 | -89 |  64 |  63 |  20 |  65 |  37 | -21 \n",
      "--------------------------------------------------------\n",
      "|   5 |  62 |   9 |   7 |  81 | -56 |  18 |  90 |  37 \n",
      "--------------------------------------------------------\n",
      "|   6 | -60 |   5 |  32 |  -7 |  28 |  83 |  84 |  24 \n",
      "--------------------------------------------------------\n",
      "|   7 |  62 | -86 | -55 | -99 | -58 | -66 |  44 |   8 \n",
      "\n",
      "The max possible result for this board is: $426\n",
      "The optimal (most lucrative) path is: [(0, 5), (1, 6), (2, 7), (3, 6), (4, 5), (5, 6), (6, 6), (7, 6)]\n"
     ]
    }
   ],
   "source": [
    "from random import randint\n",
    "\n",
    "def generate_board(n_rows=8, n_cols=0, value_range=(-100, 100)):\n",
    "    if not n_cols: n_cols = n_rows\n",
    "    return [[randint(*value_range) for _ in range(n_cols)] for _ in range(n_rows)]\n",
    "\n",
    "\n",
    "def print_board(board):\n",
    "    line = len(board)*7*'-'\n",
    "    matrix = [[' '] + list(range(len(board)))] + [[i]+row for i, row in enumerate(board)]\n",
    "    print('\\n'+f'\\n{line}\\n'.join([''.join(['|{:4} '.format(cell) for cell in row]) for row in matrix]))\n",
    "\n",
    "\n",
    "def checker_max_path(board):\n",
    "    if not board:\n",
    "        return None\n",
    "\n",
    "    n_rows = len(board)\n",
    "    n_cols = len(board[0])\n",
    "    b = [[float(\"-inf\")]*(n_cols+2) for _ in range(n_rows+1)]\n",
    "    b[1][1:-1] = board[0]\n",
    "\n",
    "    for i in range(1, n_rows):\n",
    "        for j in range(n_cols):\n",
    "            b[i+1][j+1] = board[i][j] + max(b[i][j], b[i][j+1], b[i][j+2])\n",
    "\n",
    "    return max(b[-1]), _get_max_path(b, n_cols)\n",
    "\n",
    "def _get_max_path(table, n_cols):\n",
    "    path = []\n",
    "    left, right = 1, n_cols+2\n",
    "    for i in range(len(table)-1, 0, -1):\n",
    "        row = table[i]\n",
    "        max_value = max(row[left:right])\n",
    "        max_index = row.index(max_value)\n",
    "        path.append((i-1, max_index-1))\n",
    "        left = max_index-1\n",
    "        right = max_index+2\n",
    "    return path[::-1]\n",
    "\n",
    "\n",
    "\n",
    "# Tests\n",
    "game = generate_board()\n",
    "print_board(game)\n",
    "max_sum, path = checker_max_path(game)\n",
    "print(f\"\\nThe max possible result for this board is: ${max_sum}\")\n",
    "print(f\"The optimal (most lucrative) path is: {path}\")\n"
   ]
  },
  {
   "cell_type": "markdown",
   "metadata": {},
   "source": [
    "Let m be the number of rows and n the number of columns:\n",
    "\n",
    "\n",
    "Time complexity: 𝚯(mn)\n",
    "\n",
    "Space complexity: 𝚯(mn)"
   ]
  },
  {
   "cell_type": "code",
   "execution_count": null,
   "metadata": {},
   "outputs": [],
   "source": []
  }
 ],
 "metadata": {
  "kernelspec": {
   "display_name": "Python 3",
   "language": "python",
   "name": "python3"
  },
  "language_info": {
   "codemirror_mode": {
    "name": "ipython",
    "version": 3
   },
   "file_extension": ".py",
   "mimetype": "text/x-python",
   "name": "python",
   "nbconvert_exporter": "python",
   "pygments_lexer": "ipython3",
   "version": "3.6.6"
  }
 },
 "nbformat": 4,
 "nbformat_minor": 2
}
